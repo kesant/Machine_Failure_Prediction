{
 "cells": [
  {
   "cell_type": "code",
   "execution_count": 2,
   "id": "808f5d33-6a3d-42e9-917b-bc7faba7f9d4",
   "metadata": {},
   "outputs": [],
   "source": [
    "%load_ext autoreload\n",
    "%autoreload 2"
   ]
  },
  {
   "cell_type": "code",
   "execution_count": 3,
   "id": "09216871-1296-4874-8e87-7d334872a4e7",
   "metadata": {},
   "outputs": [],
   "source": [
    "import pandas as pd\n",
    "import numpy as np\n",
    "import seaborn as sns\n",
    "import matplotlib.pyplot as plt\n",
    "from machine_failure_prediction.utils.paths import data_dir"
   ]
  },
  {
   "cell_type": "markdown",
   "id": "d8cfe10f-7c50-4e1f-b4bc-5b4ce1d32a7f",
   "metadata": {},
   "source": [
    "INFORMATION ABOUT THE DATASET \n",
    "* Columns Description\n",
    "* footfall: The number of people or objects passing by the machine.\n",
    "* tempMode: The temperature mode or setting of the machine.\n",
    "* AQ: Air quality index near the machine.\n",
    "* USS: Ultrasonic sensor data, indicating proximity measurements.\n",
    "* CS: Current sensor readings, indicating the electrical current usage of the machine.\n",
    "* VOC: Volatile organic compounds level detected near the machine.\n",
    "* RP: Rotational position or RPM (revolutions per minute) of the machine parts.\n",
    "* IP: Input pressure to the machine.\n",
    "* Temperature: The operating temperature of the machine.\n",
    "* fail: Binary indicator of machine failure (1 for failure, 0 for no failure)."
   ]
  },
  {
   "cell_type": "code",
   "execution_count": 4,
   "id": "ad3dc882-7a52-475d-baa6-c3aae0f13d62",
   "metadata": {},
   "outputs": [],
   "source": [
    "df=pd.read_csv(data_dir(\"raw\",\"machine_failure_data.csv\"))"
   ]
  },
  {
   "cell_type": "code",
   "execution_count": 5,
   "id": "39c5f230-9d3d-4e24-beb6-e0f3bee40899",
   "metadata": {},
   "outputs": [
    {
     "data": {
      "text/html": [
       "<div>\n",
       "<style scoped>\n",
       "    .dataframe tbody tr th:only-of-type {\n",
       "        vertical-align: middle;\n",
       "    }\n",
       "\n",
       "    .dataframe tbody tr th {\n",
       "        vertical-align: top;\n",
       "    }\n",
       "\n",
       "    .dataframe thead th {\n",
       "        text-align: right;\n",
       "    }\n",
       "</style>\n",
       "<table border=\"1\" class=\"dataframe\">\n",
       "  <thead>\n",
       "    <tr style=\"text-align: right;\">\n",
       "      <th></th>\n",
       "      <th>footfall</th>\n",
       "      <th>tempMode</th>\n",
       "      <th>AQ</th>\n",
       "      <th>USS</th>\n",
       "      <th>CS</th>\n",
       "      <th>VOC</th>\n",
       "      <th>RP</th>\n",
       "      <th>IP</th>\n",
       "      <th>Temperature</th>\n",
       "      <th>fail</th>\n",
       "    </tr>\n",
       "  </thead>\n",
       "  <tbody>\n",
       "    <tr>\n",
       "      <th>0</th>\n",
       "      <td>0</td>\n",
       "      <td>7</td>\n",
       "      <td>7</td>\n",
       "      <td>1</td>\n",
       "      <td>6</td>\n",
       "      <td>6</td>\n",
       "      <td>36</td>\n",
       "      <td>3</td>\n",
       "      <td>1</td>\n",
       "      <td>1</td>\n",
       "    </tr>\n",
       "    <tr>\n",
       "      <th>1</th>\n",
       "      <td>190</td>\n",
       "      <td>1</td>\n",
       "      <td>3</td>\n",
       "      <td>3</td>\n",
       "      <td>5</td>\n",
       "      <td>1</td>\n",
       "      <td>20</td>\n",
       "      <td>4</td>\n",
       "      <td>1</td>\n",
       "      <td>0</td>\n",
       "    </tr>\n",
       "    <tr>\n",
       "      <th>2</th>\n",
       "      <td>31</td>\n",
       "      <td>7</td>\n",
       "      <td>2</td>\n",
       "      <td>2</td>\n",
       "      <td>6</td>\n",
       "      <td>1</td>\n",
       "      <td>24</td>\n",
       "      <td>6</td>\n",
       "      <td>1</td>\n",
       "      <td>0</td>\n",
       "    </tr>\n",
       "    <tr>\n",
       "      <th>3</th>\n",
       "      <td>83</td>\n",
       "      <td>4</td>\n",
       "      <td>3</td>\n",
       "      <td>4</td>\n",
       "      <td>5</td>\n",
       "      <td>1</td>\n",
       "      <td>28</td>\n",
       "      <td>6</td>\n",
       "      <td>1</td>\n",
       "      <td>0</td>\n",
       "    </tr>\n",
       "    <tr>\n",
       "      <th>4</th>\n",
       "      <td>640</td>\n",
       "      <td>7</td>\n",
       "      <td>5</td>\n",
       "      <td>6</td>\n",
       "      <td>4</td>\n",
       "      <td>0</td>\n",
       "      <td>68</td>\n",
       "      <td>6</td>\n",
       "      <td>1</td>\n",
       "      <td>0</td>\n",
       "    </tr>\n",
       "  </tbody>\n",
       "</table>\n",
       "</div>"
      ],
      "text/plain": [
       "   footfall  tempMode  AQ  USS  CS  VOC  RP  IP  Temperature  fail\n",
       "0         0         7   7    1   6    6  36   3            1     1\n",
       "1       190         1   3    3   5    1  20   4            1     0\n",
       "2        31         7   2    2   6    1  24   6            1     0\n",
       "3        83         4   3    4   5    1  28   6            1     0\n",
       "4       640         7   5    6   4    0  68   6            1     0"
      ]
     },
     "execution_count": 5,
     "metadata": {},
     "output_type": "execute_result"
    }
   ],
   "source": [
    "df.head()"
   ]
  },
  {
   "cell_type": "code",
   "execution_count": 6,
   "id": "1ad11f5a-b737-460f-8217-dabe747fa13b",
   "metadata": {},
   "outputs": [
    {
     "name": "stdout",
     "output_type": "stream",
     "text": [
      "<class 'pandas.core.frame.DataFrame'>\n",
      "RangeIndex: 944 entries, 0 to 943\n",
      "Data columns (total 10 columns):\n",
      " #   Column       Non-Null Count  Dtype\n",
      "---  ------       --------------  -----\n",
      " 0   footfall     944 non-null    int64\n",
      " 1   tempMode     944 non-null    int64\n",
      " 2   AQ           944 non-null    int64\n",
      " 3   USS          944 non-null    int64\n",
      " 4   CS           944 non-null    int64\n",
      " 5   VOC          944 non-null    int64\n",
      " 6   RP           944 non-null    int64\n",
      " 7   IP           944 non-null    int64\n",
      " 8   Temperature  944 non-null    int64\n",
      " 9   fail         944 non-null    int64\n",
      "dtypes: int64(10)\n",
      "memory usage: 73.9 KB\n"
     ]
    }
   ],
   "source": [
    "df.info()"
   ]
  },
  {
   "cell_type": "code",
   "execution_count": 7,
   "id": "9296531c-c10c-4ee9-9897-9097c46af60f",
   "metadata": {},
   "outputs": [
    {
     "data": {
      "text/plain": [
       "footfall       99\n",
       "tempMode        8\n",
       "AQ              7\n",
       "USS             7\n",
       "CS              7\n",
       "VOC             7\n",
       "RP             71\n",
       "IP              7\n",
       "Temperature    24\n",
       "fail            2\n",
       "dtype: int64"
      ]
     },
     "execution_count": 7,
     "metadata": {},
     "output_type": "execute_result"
    }
   ],
   "source": [
    "df.nunique()"
   ]
  },
  {
   "cell_type": "markdown",
   "id": "97db1058-1d15-4ae0-b3ba-5d8cf0a5501b",
   "metadata": {},
   "source": [
    "The variables **`tempMode`**, **`AQ`**, **`USS`**, **`CS`**, **`VOC`**, and **`IP`** are considered categorical because they represent discrete levels or states rather than continuous quantities. Although they are in numeric format, their values indicate configurations (such as temperature mode or air quality levels) and do not have a meaningful order or continuous progression. Additionally, these columns have a limited number of unique values, reinforcing the interpretation that they are predefined categories or states within the system."
   ]
  },
  {
   "cell_type": "code",
   "execution_count": 8,
   "id": "b320bf76-d43d-42a4-830c-25c729618c54",
   "metadata": {},
   "outputs": [],
   "source": [
    "numerical=[\"footfall\",\"Temperature\"]\n",
    "categorical=[\"tempMode\",\"AQ\",\"USS\",\"CS\",\"VOC\",\"IP\"]"
   ]
  },
  {
   "cell_type": "code",
   "execution_count": 9,
   "id": "bffdf68e-199f-4828-b5be-d8c55e5bef5c",
   "metadata": {},
   "outputs": [
    {
     "name": "stdout",
     "output_type": "stream",
     "text": [
      "<class 'pandas.core.frame.DataFrame'>\n",
      "RangeIndex: 944 entries, 0 to 943\n",
      "Data columns (total 10 columns):\n",
      " #   Column       Non-Null Count  Dtype\n",
      "---  ------       --------------  -----\n",
      " 0   footfall     944 non-null    int64\n",
      " 1   tempMode     944 non-null    int64\n",
      " 2   AQ           944 non-null    int64\n",
      " 3   USS          944 non-null    int64\n",
      " 4   CS           944 non-null    int64\n",
      " 5   VOC          944 non-null    int64\n",
      " 6   RP           944 non-null    int64\n",
      " 7   IP           944 non-null    int64\n",
      " 8   Temperature  944 non-null    int64\n",
      " 9   fail         944 non-null    int64\n",
      "dtypes: int64(10)\n",
      "memory usage: 73.9 KB\n"
     ]
    }
   ],
   "source": [
    "df.info()"
   ]
  },
  {
   "cell_type": "code",
   "execution_count": 10,
   "id": "eafcf3e2-da7f-4df7-b968-7b04192a1bf9",
   "metadata": {},
   "outputs": [
    {
     "data": {
      "text/plain": [
       "footfall       0\n",
       "tempMode       0\n",
       "AQ             0\n",
       "USS            0\n",
       "CS             0\n",
       "VOC            0\n",
       "RP             0\n",
       "IP             0\n",
       "Temperature    0\n",
       "fail           0\n",
       "dtype: int64"
      ]
     },
     "execution_count": 10,
     "metadata": {},
     "output_type": "execute_result"
    }
   ],
   "source": [
    "df.isna().sum()"
   ]
  },
  {
   "cell_type": "code",
   "execution_count": 11,
   "id": "077dbb1e-23a1-4583-a351-e69a13533b75",
   "metadata": {},
   "outputs": [
    {
     "data": {
      "text/html": [
       "<div>\n",
       "<style scoped>\n",
       "    .dataframe tbody tr th:only-of-type {\n",
       "        vertical-align: middle;\n",
       "    }\n",
       "\n",
       "    .dataframe tbody tr th {\n",
       "        vertical-align: top;\n",
       "    }\n",
       "\n",
       "    .dataframe thead th {\n",
       "        text-align: right;\n",
       "    }\n",
       "</style>\n",
       "<table border=\"1\" class=\"dataframe\">\n",
       "  <thead>\n",
       "    <tr style=\"text-align: right;\">\n",
       "      <th></th>\n",
       "      <th>footfall</th>\n",
       "      <th>tempMode</th>\n",
       "      <th>AQ</th>\n",
       "      <th>USS</th>\n",
       "      <th>CS</th>\n",
       "      <th>VOC</th>\n",
       "      <th>RP</th>\n",
       "      <th>IP</th>\n",
       "      <th>Temperature</th>\n",
       "      <th>fail</th>\n",
       "    </tr>\n",
       "  </thead>\n",
       "  <tbody>\n",
       "    <tr>\n",
       "      <th>count</th>\n",
       "      <td>944.000000</td>\n",
       "      <td>944.000000</td>\n",
       "      <td>944.000000</td>\n",
       "      <td>944.000000</td>\n",
       "      <td>944.000000</td>\n",
       "      <td>944.000000</td>\n",
       "      <td>944.000000</td>\n",
       "      <td>944.000000</td>\n",
       "      <td>944.000000</td>\n",
       "      <td>944.000000</td>\n",
       "    </tr>\n",
       "    <tr>\n",
       "      <th>mean</th>\n",
       "      <td>306.381356</td>\n",
       "      <td>3.727754</td>\n",
       "      <td>4.325212</td>\n",
       "      <td>2.939619</td>\n",
       "      <td>5.394068</td>\n",
       "      <td>2.842161</td>\n",
       "      <td>47.043432</td>\n",
       "      <td>4.565678</td>\n",
       "      <td>16.331568</td>\n",
       "      <td>0.416314</td>\n",
       "    </tr>\n",
       "    <tr>\n",
       "      <th>std</th>\n",
       "      <td>1082.606745</td>\n",
       "      <td>2.677235</td>\n",
       "      <td>1.438436</td>\n",
       "      <td>1.383725</td>\n",
       "      <td>1.269349</td>\n",
       "      <td>2.273337</td>\n",
       "      <td>16.423130</td>\n",
       "      <td>1.599287</td>\n",
       "      <td>5.974781</td>\n",
       "      <td>0.493208</td>\n",
       "    </tr>\n",
       "    <tr>\n",
       "      <th>min</th>\n",
       "      <td>0.000000</td>\n",
       "      <td>0.000000</td>\n",
       "      <td>1.000000</td>\n",
       "      <td>1.000000</td>\n",
       "      <td>1.000000</td>\n",
       "      <td>0.000000</td>\n",
       "      <td>19.000000</td>\n",
       "      <td>1.000000</td>\n",
       "      <td>1.000000</td>\n",
       "      <td>0.000000</td>\n",
       "    </tr>\n",
       "    <tr>\n",
       "      <th>25%</th>\n",
       "      <td>1.000000</td>\n",
       "      <td>1.000000</td>\n",
       "      <td>3.000000</td>\n",
       "      <td>2.000000</td>\n",
       "      <td>5.000000</td>\n",
       "      <td>1.000000</td>\n",
       "      <td>34.000000</td>\n",
       "      <td>3.000000</td>\n",
       "      <td>14.000000</td>\n",
       "      <td>0.000000</td>\n",
       "    </tr>\n",
       "    <tr>\n",
       "      <th>50%</th>\n",
       "      <td>22.000000</td>\n",
       "      <td>3.000000</td>\n",
       "      <td>4.000000</td>\n",
       "      <td>3.000000</td>\n",
       "      <td>6.000000</td>\n",
       "      <td>2.000000</td>\n",
       "      <td>44.000000</td>\n",
       "      <td>4.000000</td>\n",
       "      <td>17.000000</td>\n",
       "      <td>0.000000</td>\n",
       "    </tr>\n",
       "    <tr>\n",
       "      <th>75%</th>\n",
       "      <td>110.000000</td>\n",
       "      <td>7.000000</td>\n",
       "      <td>6.000000</td>\n",
       "      <td>4.000000</td>\n",
       "      <td>6.000000</td>\n",
       "      <td>5.000000</td>\n",
       "      <td>58.000000</td>\n",
       "      <td>6.000000</td>\n",
       "      <td>21.000000</td>\n",
       "      <td>1.000000</td>\n",
       "    </tr>\n",
       "    <tr>\n",
       "      <th>max</th>\n",
       "      <td>7300.000000</td>\n",
       "      <td>7.000000</td>\n",
       "      <td>7.000000</td>\n",
       "      <td>7.000000</td>\n",
       "      <td>7.000000</td>\n",
       "      <td>6.000000</td>\n",
       "      <td>91.000000</td>\n",
       "      <td>7.000000</td>\n",
       "      <td>24.000000</td>\n",
       "      <td>1.000000</td>\n",
       "    </tr>\n",
       "  </tbody>\n",
       "</table>\n",
       "</div>"
      ],
      "text/plain": [
       "          footfall    tempMode          AQ         USS          CS  \\\n",
       "count   944.000000  944.000000  944.000000  944.000000  944.000000   \n",
       "mean    306.381356    3.727754    4.325212    2.939619    5.394068   \n",
       "std    1082.606745    2.677235    1.438436    1.383725    1.269349   \n",
       "min       0.000000    0.000000    1.000000    1.000000    1.000000   \n",
       "25%       1.000000    1.000000    3.000000    2.000000    5.000000   \n",
       "50%      22.000000    3.000000    4.000000    3.000000    6.000000   \n",
       "75%     110.000000    7.000000    6.000000    4.000000    6.000000   \n",
       "max    7300.000000    7.000000    7.000000    7.000000    7.000000   \n",
       "\n",
       "              VOC          RP          IP  Temperature        fail  \n",
       "count  944.000000  944.000000  944.000000   944.000000  944.000000  \n",
       "mean     2.842161   47.043432    4.565678    16.331568    0.416314  \n",
       "std      2.273337   16.423130    1.599287     5.974781    0.493208  \n",
       "min      0.000000   19.000000    1.000000     1.000000    0.000000  \n",
       "25%      1.000000   34.000000    3.000000    14.000000    0.000000  \n",
       "50%      2.000000   44.000000    4.000000    17.000000    0.000000  \n",
       "75%      5.000000   58.000000    6.000000    21.000000    1.000000  \n",
       "max      6.000000   91.000000    7.000000    24.000000    1.000000  "
      ]
     },
     "execution_count": 11,
     "metadata": {},
     "output_type": "execute_result"
    }
   ],
   "source": [
    "df.describe()"
   ]
  },
  {
   "cell_type": "markdown",
   "id": "729d2949-d190-41b6-8775-8653e98ce035",
   "metadata": {},
   "source": [
    "We can identify columns with potential outliers by examining the difference between the maximum and mean values. For instance, the column footfall likely contains outliers, as it shows a significant gap between its maximum (7300) and mean (306.38)."
   ]
  },
  {
   "cell_type": "code",
   "execution_count": 12,
   "id": "22e04a90-8ead-4dec-a99d-91c9baf95df9",
   "metadata": {},
   "outputs": [
    {
     "data": {
      "text/plain": [
       "fail\n",
       "0    551\n",
       "1    393\n",
       "Name: count, dtype: int64"
      ]
     },
     "execution_count": 12,
     "metadata": {},
     "output_type": "execute_result"
    }
   ],
   "source": [
    "df.fail.value_counts()"
   ]
  },
  {
   "cell_type": "markdown",
   "id": "80f9eb28-216e-4c4e-930f-b4361ba0364b",
   "metadata": {},
   "source": [
    "The fail column shows an imbalance, with 551 instances labeled as 0 and 393 as 1. This imbalance means we have more data points for one label than the other, which could bias our models by training them more heavily on the majority class."
   ]
  },
  {
   "cell_type": "markdown",
   "id": "ba3e73e0-3e87-486f-812b-0e2f1d4d43bd",
   "metadata": {},
   "source": [
    "### Distribution"
   ]
  },
  {
   "cell_type": "code",
   "execution_count": 13,
   "id": "79d92f14-8456-4aee-aa61-7212a8fd2d54",
   "metadata": {},
   "outputs": [
    {
     "data": {
      "text/plain": [
       "<seaborn.axisgrid.FacetGrid at 0x24c691f39d0>"
      ]
     },
     "execution_count": 13,
     "metadata": {},
     "output_type": "execute_result"
    },
    {
     "data": {
      "image/png": "[encoded data removed]",
      "text/plain": [
       "<Figure size 500x500 with 1 Axes>"
      ]
     },
     "metadata": {},
     "output_type": "display_data"
    }
   ],
   "source": [
    "# Set the argument `kde=False` to remove the estimate-line representing the Gaussian kernel density estimate.\n",
    "sns.displot(df['footfall'], kde=False)"
   ]
  },
  {
   "cell_type": "code",
   "execution_count": 14,
   "id": "b8dff769-a291-40cc-a1f6-fc4d11fc0d66",
   "metadata": {},
   "outputs": [
    {
     "data": {
      "text/plain": [
       "<seaborn.axisgrid.FacetGrid at 0x24c69b36dd0>"
      ]
     },
     "execution_count": 14,
     "metadata": {},
     "output_type": "execute_result"
    },
    {
     "data": {
      "image/png": "[encoded data removed]",
      "text/plain": [
       "<Figure size 500x500 with 1 Axes>"
      ]
     },
     "metadata": {},
     "output_type": "display_data"
    }
   ],
   "source": [
    "# Set the argument `kde=False` to remove the estimate-line representing the Gaussian kernel density estimate.\n",
    "sns.displot(df['Temperature'], kde=False)"
   ]
  },
  {
   "cell_type": "code",
   "execution_count": 15,
   "id": "2141e605-9d1d-407c-bbbf-7ff3b22ebd97",
   "metadata": {},
   "outputs": [],
   "source": [
    "df['footfall']=df['footfall']+1"
   ]
  },
  {
   "cell_type": "code",
   "execution_count": 16,
   "id": "6c19a56e-e88b-476d-b119-83674e88b0d8",
   "metadata": {},
   "outputs": [
    {
     "data": {
      "text/plain": [
       "count    2.974972\n",
       "mean     2.487678\n",
       "std      3.034471\n",
       "min      0.000000\n",
       "25%      0.301030\n",
       "50%      1.361728\n",
       "75%      2.045323\n",
       "max      3.863382\n",
       "Name: footfall, dtype: float64"
      ]
     },
     "execution_count": 16,
     "metadata": {},
     "output_type": "execute_result"
    }
   ],
   "source": [
    "np.log10(df['footfall'].describe())"
   ]
  },
  {
   "cell_type": "code",
   "execution_count": 17,
   "id": "4366d386-15a6-465c-beec-2e27aae693bb",
   "metadata": {},
   "outputs": [
    {
     "data": {
      "image/png": "[encoded data removed]",
      "text/plain": [
       "<Figure size 1200x500 with 2 Axes>"
      ]
     },
     "metadata": {},
     "output_type": "display_data"
    }
   ],
   "source": [
    "from sklearn.preprocessing import StandardScaler\n",
    "\n",
    "# Applying transformations and scaling as recommended\n",
    "# Log transformation for 'footfall' to reduce skewness\n",
    "data_transformed = df.copy()\n",
    "data_transformed['footfall'] = np.log1p(data_transformed['footfall'])\n",
    "\n",
    "# Standard scaling for 'Temperature' to maintain structure\n",
    "scaler = StandardScaler()\n",
    "data_transformed['Temperature'] = scaler.fit_transform(data_transformed[['Temperature']])\n",
    "\n",
    "# Display the transformed summary statistics to verify changes\n",
    "data_transformed[['footfall', 'Temperature']].describe()\n",
    "# Plotting the transformed distributions for footfall and Temperature\n",
    "fig, axs = plt.subplots(1, 2, figsize=(12, 5))\n",
    "\n",
    "# Plot transformed distribution for footfall\n",
    "axs[0].hist(data_transformed['footfall'], bins=20)\n",
    "axs[0].set_title('Transformed Distribution of footfall')\n",
    "axs[0].set_xlabel('footfall (log-transformed)')\n",
    "axs[0].set_ylabel('Frequency')\n",
    "\n",
    "# Plot transformed distribution for Temperature\n",
    "axs[1].hist(data_transformed['Temperature'], bins=20)\n",
    "axs[1].set_title('Transformed Distribution of Temperature')\n",
    "axs[1].set_xlabel('Temperature (standardized)')\n",
    "axs[1].set_ylabel('Frequency')\n",
    "\n",
    "plt.tight_layout()\n",
    "plt.show()\n"
   ]
  },
  {
   "cell_type": "markdown",
   "id": "597a6fd6-cfcb-4be2-ac05-4a641983f4b7",
   "metadata": {},
   "source": [
    "### Mutual information metric"
   ]
  },
  {
   "cell_type": "code",
   "execution_count": 18,
   "id": "884c5836-59bc-4393-bb48-a431951b913e",
   "metadata": {},
   "outputs": [],
   "source": [
    "from sklearn.metrics import mutual_info_score"
   ]
  },
  {
   "cell_type": "code",
   "execution_count": 19,
   "id": "1aa06e1c-3a69-4f89-b715-f06fa512d3bb",
   "metadata": {},
   "outputs": [],
   "source": [
    "def mutual_info_churn_score(series):\n",
    "    return mutual_info_score(series, df.fail)"
   ]
  },
  {
   "cell_type": "code",
   "execution_count": 20,
   "id": "3bba0ceb-34a0-4df9-a50f-91b6ff261554",
   "metadata": {
    "scrolled": true
   },
   "outputs": [
    {
     "data": {
      "text/plain": [
       "VOC         0.403136\n",
       "AQ          0.211640\n",
       "USS         0.140197\n",
       "CS          0.063571\n",
       "tempMode    0.006499\n",
       "IP          0.006162\n",
       "dtype: float64"
      ]
     },
     "execution_count": 20,
     "metadata": {},
     "output_type": "execute_result"
    }
   ],
   "source": [
    "mi = df[categorical].apply(mutual_info_churn_score)\n",
    "mi.sort_values(ascending=False)"
   ]
  },
  {
   "cell_type": "code",
   "execution_count": null,
   "id": "56bbafb7-f13b-4bbc-bfea-f676858c38e3",
   "metadata": {},
   "outputs": [],
   "source": []
  },
  {
   "cell_type": "markdown",
   "id": "8e6e7cdf-5620-4744-9abc-7aab43b4544f",
   "metadata": {},
   "source": [
    "### Correlation"
   ]
  },
  {
   "cell_type": "code",
   "execution_count": 21,
   "id": "6c84790e-16b4-4e30-9029-f5661b52fc0e",
   "metadata": {},
   "outputs": [
    {
     "data": {
      "text/html": [
       "<div>\n",
       "<style scoped>\n",
       "    .dataframe tbody tr th:only-of-type {\n",
       "        vertical-align: middle;\n",
       "    }\n",
       "\n",
       "    .dataframe tbody tr th {\n",
       "        vertical-align: top;\n",
       "    }\n",
       "\n",
       "    .dataframe thead th {\n",
       "        text-align: right;\n",
       "    }\n",
       "</style>\n",
       "<table border=\"1\" class=\"dataframe\">\n",
       "  <thead>\n",
       "    <tr style=\"text-align: right;\">\n",
       "      <th></th>\n",
       "      <th>footfall</th>\n",
       "      <th>Temperature</th>\n",
       "    </tr>\n",
       "  </thead>\n",
       "  <tbody>\n",
       "    <tr>\n",
       "      <th>0</th>\n",
       "      <td>1</td>\n",
       "      <td>1</td>\n",
       "    </tr>\n",
       "    <tr>\n",
       "      <th>1</th>\n",
       "      <td>191</td>\n",
       "      <td>1</td>\n",
       "    </tr>\n",
       "    <tr>\n",
       "      <th>2</th>\n",
       "      <td>32</td>\n",
       "      <td>1</td>\n",
       "    </tr>\n",
       "    <tr>\n",
       "      <th>3</th>\n",
       "      <td>84</td>\n",
       "      <td>1</td>\n",
       "    </tr>\n",
       "    <tr>\n",
       "      <th>4</th>\n",
       "      <td>641</td>\n",
       "      <td>1</td>\n",
       "    </tr>\n",
       "  </tbody>\n",
       "</table>\n",
       "</div>"
      ],
      "text/plain": [
       "   footfall  Temperature\n",
       "0         1            1\n",
       "1       191            1\n",
       "2        32            1\n",
       "3        84            1\n",
       "4       641            1"
      ]
     },
     "execution_count": 21,
     "metadata": {},
     "output_type": "execute_result"
    }
   ],
   "source": [
    "df_num = df.loc[:,numerical]\n",
    "df_num.head()"
   ]
  },
  {
   "cell_type": "code",
   "execution_count": 22,
   "id": "b8bf5cc2-3147-441a-9b8a-2178616095ee",
   "metadata": {},
   "outputs": [
    {
     "data": {
      "text/plain": [
       "footfall       0.073066\n",
       "Temperature    0.190257\n",
       "dtype: float64"
      ]
     },
     "execution_count": 22,
     "metadata": {},
     "output_type": "execute_result"
    }
   ],
   "source": [
    "df[numerical].corrwith(df.fail).abs()"
   ]
  },
  {
   "cell_type": "code",
   "execution_count": null,
   "id": "56c34b05-fd0d-4335-8c1c-f7e988b31fae",
   "metadata": {},
   "outputs": [],
   "source": []
  }
 ],
 "metadata": {
  "kernelspec": {
   "display_name": "Python 3 (ipykernel)",
   "language": "python",
   "name": "python3"
  },
  "language_info": {
   "codemirror_mode": {
    "name": "ipython",
    "version": 3
   },
   "file_extension": ".py",
   "mimetype": "text/x-python",
   "name": "python",
   "nbconvert_exporter": "python",
   "pygments_lexer": "ipython3",
   "version": "3.11.10"
  }
 },
 "nbformat": 4,
 "nbformat_minor": 5
}
